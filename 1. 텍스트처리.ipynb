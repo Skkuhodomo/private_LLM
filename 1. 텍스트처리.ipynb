{
  "nbformat": 4,
  "nbformat_minor": 0,
  "metadata": {
    "colab": {
      "provenance": [],
      "gpuType": "T4",
      "authorship_tag": "ABX9TyM4W0fFxDP+2P5dxq79W8GD",
      "include_colab_link": true
    },
    "kernelspec": {
      "name": "python3",
      "display_name": "Python 3"
    },
    "language_info": {
      "name": "python"
    }
  },
  "cells": [
    {
      "cell_type": "markdown",
      "metadata": {
        "id": "view-in-github",
        "colab_type": "text"
      },
      "source": [
        "<a href=\"https://colab.research.google.com/github/Skkuhodomo/private_LLM/blob/main/PrivateLLM.ipynb\" target=\"_parent\"><img src=\"https://colab.research.google.com/assets/colab-badge.svg\" alt=\"Open In Colab\"/></a>"
      ]
    },
    {
      "cell_type": "markdown",
      "source": [
        "# 1. 라이브러리 다운로드"
      ],
      "metadata": {
        "id": "gVZ2hr5P3xyE"
      }
    },
    {
      "cell_type": "code",
      "execution_count": null,
      "metadata": {
        "id": "dvQWKUuwyx36"
      },
      "outputs": [],
      "source": [
        "!pip install matplotlib numpy pylzma ipykernel"
      ]
    },
    {
      "cell_type": "code",
      "source": [
        "!pip install torch torchvision torchaudio"
      ],
      "metadata": {
        "id": "uvXRjD95zn5P"
      },
      "execution_count": null,
      "outputs": []
    },
    {
      "cell_type": "markdown",
      "source": [
        "# 2. 텍스트 파일 가지고 연습하기"
      ],
      "metadata": {
        "id": "MdP8bl0036nr"
      }
    },
    {
      "cell_type": "code",
      "source": [
        "with open('story.txt', 'r', encoding = 'utf-8') as f:\n",
        "  text = f.read()"
      ],
      "metadata": {
        "id": "3lX6sHao25kH"
      },
      "execution_count": null,
      "outputs": []
    },
    {
      "cell_type": "markdown",
      "source": [
        "200 번째까지의 텍스트를 가져옵니다.\n"
      ],
      "metadata": {
        "id": "g5kYPyfu4I98"
      }
    },
    {
      "cell_type": "code",
      "source": [
        "print(text[:200])"
      ],
      "metadata": {
        "colab": {
          "base_uri": "https://localhost:8080/"
        },
        "id": "qLSPgMNH3RKl",
        "outputId": "3db0f118-4db6-409b-eaaa-12c808fe0d3d"
      },
      "execution_count": null,
      "outputs": [
        {
          "output_type": "stream",
          "name": "stdout",
          "text": [
            "The name of a boy was Junho. He was known for his quiet and calm personality. However, there was always a gleam of desire in his eyes.\n",
            "\n",
            "One day, news spread that a semiconductor kindergarten had opene\n"
          ]
        }
      ]
    },
    {
      "cell_type": "markdown",
      "source": [
        "아래는 파일 상의 텍스트 구성요소를 가져오는 과정이다.\n",
        "고등학교 때 배우는 집합 개념이라고 보면된다."
      ],
      "metadata": {
        "id": "BFBz0nzh4Omn"
      }
    },
    {
      "cell_type": "code",
      "source": [
        "chars = sorted(set(text))\n",
        "print(chars)"
      ],
      "metadata": {
        "colab": {
          "base_uri": "https://localhost:8080/"
        },
        "id": "iivGDPkO3uDx",
        "outputId": "3251e6b5-6ad1-44bc-fa19-ee31e8cdc707"
      },
      "execution_count": null,
      "outputs": [
        {
          "output_type": "stream",
          "name": "stdout",
          "text": [
            "['\\n', ' ', '\"', \"'\", ',', '.', 'A', 'B', 'C', 'F', 'H', 'I', 'J', 'L', 'M', 'O', 'T', 'a', 'b', 'c', 'd', 'e', 'f', 'g', 'h', 'i', 'k', 'l', 'm', 'n', 'o', 'p', 'q', 'r', 's', 't', 'u', 'v', 'w', 'x', 'y', 'z']\n"
          ]
        }
      ]
    },
    {
      "cell_type": "markdown",
      "source": [
        " 주어진 텍스트를 숫자로 변환하여 딥러닝 모델에서 사용할 수 있도록 처리하는 과정을 수행합니다."
      ],
      "metadata": {
        "id": "HeWxcE5V-PxU"
      }
    },
    {
      "cell_type": "code",
      "source": [
        "import torch\n",
        "string_to_int =  {ch:i for i,ch in enumerate(chars) }\n",
        "int_to_string = {i:ch for i,ch in enumerate(chars)}\n",
        "encode = lambda s: [string_to_int[c] for c in s]\n",
        "decode = lambda l: ''.join([int_to_string[i] for i in l])\n",
        "\n",
        "data = torch.tensor(encode(text), dtype = torch.long)\n",
        "print(data[:100])"
      ],
      "metadata": {
        "colab": {
          "base_uri": "https://localhost:8080/"
        },
        "id": "vAss2BID4yOn",
        "outputId": "b23a187b-9815-4a89-93ee-1d36c9f8c8cb"
      },
      "execution_count": null,
      "outputs": [
        {
          "output_type": "stream",
          "name": "stdout",
          "text": [
            "tensor([16, 24, 21,  1, 29, 17, 28, 21,  1, 30, 22,  1, 17,  1, 18, 30, 40,  1,\n",
            "        38, 17, 34,  1, 12, 36, 29, 24, 30,  5,  1, 10, 21,  1, 38, 17, 34,  1,\n",
            "        26, 29, 30, 38, 29,  1, 22, 30, 33,  1, 24, 25, 34,  1, 32, 36, 25, 21,\n",
            "        35,  1, 17, 29, 20,  1, 19, 17, 27, 28,  1, 31, 21, 33, 34, 30, 29, 17,\n",
            "        27, 25, 35, 40,  5,  1, 10, 30, 38, 21, 37, 21, 33,  4,  1, 35, 24, 21,\n",
            "        33, 21,  1, 38, 17, 34,  1, 17, 27, 38])\n"
          ]
        }
      ]
    },
    {
      "cell_type": "code",
      "source": [],
      "metadata": {
        "id": "L2UOrW_x83An"
      },
      "execution_count": null,
      "outputs": []
    }
  ]
}
