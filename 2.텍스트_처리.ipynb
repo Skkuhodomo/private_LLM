{
  "nbformat": 4,
  "nbformat_minor": 0,
  "metadata": {
    "colab": {
      "provenance": [],
      "gpuType": "T4",
      "authorship_tag": "ABX9TyO4CX9Ivm4/it4Eilm7CTEN",
      "include_colab_link": true
    },
    "kernelspec": {
      "name": "python3",
      "display_name": "Python 3"
    },
    "language_info": {
      "name": "python"
    },
    "accelerator": "GPU"
  },
  "cells": [
    {
      "cell_type": "markdown",
      "metadata": {
        "id": "view-in-github",
        "colab_type": "text"
      },
      "source": [
        "<a href=\"https://colab.research.google.com/github/Skkuhodomo/private_LLM/blob/main/2.%ED%85%8D%EC%8A%A4%ED%8A%B8_%EC%B2%98%EB%A6%AC.ipynb\" target=\"_parent\"><img src=\"https://colab.research.google.com/assets/colab-badge.svg\" alt=\"Open In Colab\"/></a>"
      ]
    },
    {
      "cell_type": "markdown",
      "source": [
        "# 라이브러리 다운로드"
      ],
      "metadata": {
        "id": "AWLsCFZAz2VA"
      }
    },
    {
      "cell_type": "code",
      "execution_count": null,
      "metadata": {
        "id": "jEL_zaP3zq0O"
      },
      "outputs": [],
      "source": [
        "!pip install matplotlib numpy pylzma ipykernel"
      ]
    },
    {
      "cell_type": "code",
      "source": [
        "!pip install torch torchvision torchaudio"
      ],
      "metadata": {
        "id": "8BFuwqrXz6s1"
      },
      "execution_count": null,
      "outputs": []
    },
    {
      "cell_type": "code",
      "source": [
        "with open('story.txt', 'r', encoding = 'utf-8') as f:\n",
        "  text = f.read()\n",
        "chars = sorted(set(text))"
      ],
      "metadata": {
        "id": "ycE88s0P0e8x"
      },
      "execution_count": 6,
      "outputs": []
    },
    {
      "cell_type": "code",
      "source": [
        "string_to_int =  {ch:i for i,ch in enumerate(chars) }\n",
        "int_to_string = {i:ch for i,ch in enumerate(chars)}\n",
        "encode = lambda s: [string_to_int[c] for c in s]\n",
        "decode = lambda l: ''.join([int_to_string[i] for i in l])\n",
        "\n",
        "data = torch.tensor(encode(text), dtype = torch.long)\n",
        "print(data[:100])"
      ],
      "metadata": {
        "colab": {
          "base_uri": "https://localhost:8080/"
        },
        "id": "KZLSrTSJ1vux",
        "outputId": "ea211aa2-5157-4250-a184-b3bc450514c3"
      },
      "execution_count": 7,
      "outputs": [
        {
          "output_type": "stream",
          "name": "stdout",
          "text": [
            "tensor([16, 24, 21,  1, 29, 17, 28, 21,  1, 30, 22,  1, 35, 24, 21,  1, 19, 24,\n",
            "        25, 27, 20,  1, 38, 17, 34,  1, 12, 36, 29, 24, 30,  5,  1, 10, 21,  1,\n",
            "        38, 17, 34,  1, 22, 17, 28, 30, 36, 34,  1, 22, 30, 33,  1, 24, 25, 34,\n",
            "         1, 32, 36, 25, 21, 35,  1, 17, 29, 20,  1, 19, 17, 27, 28,  1, 20, 21,\n",
            "        28, 21, 17, 29, 30, 33,  5,  1, 10, 30, 38, 21, 37, 21, 33,  4,  1, 35,\n",
            "        24, 21, 33, 21,  1, 38, 17, 34,  1, 17])\n"
          ]
        }
      ]
    },
    {
      "cell_type": "markdown",
      "source": [
        "## Train and validation splits"
      ],
      "metadata": {
        "id": "A_edjOiaz8gz"
      }
    },
    {
      "cell_type": "code",
      "source": [
        "n = int(0.8*len(data))\n",
        "train_data = data[:n]\n",
        "val_data = data[n:]"
      ],
      "metadata": {
        "id": "CVnYnJXy0G12"
      },
      "execution_count": 8,
      "outputs": []
    },
    {
      "cell_type": "code",
      "source": [
        "block_size = 8\n",
        "\n",
        "x= train_data[:block_size]\n",
        "y= train_data[1:block_size+1]\n",
        "\n",
        "for t in range(block_size):\n",
        "  context = x[:t+1]\n",
        "  target = y[t]\n",
        "  print('when input is', context, 'target is', target)"
      ],
      "metadata": {
        "colab": {
          "base_uri": "https://localhost:8080/"
        },
        "id": "Wg9rT2an0HSA",
        "outputId": "048fe34c-e975-4352-d6b9-05f727cd92ad"
      },
      "execution_count": 9,
      "outputs": [
        {
          "output_type": "stream",
          "name": "stdout",
          "text": [
            "when input is tensor([16]) target is tensor(24)\n",
            "when input is tensor([16, 24]) target is tensor(21)\n",
            "when input is tensor([16, 24, 21]) target is tensor(1)\n",
            "when input is tensor([16, 24, 21,  1]) target is tensor(29)\n",
            "when input is tensor([16, 24, 21,  1, 29]) target is tensor(17)\n",
            "when input is tensor([16, 24, 21,  1, 29, 17]) target is tensor(28)\n",
            "when input is tensor([16, 24, 21,  1, 29, 17, 28]) target is tensor(21)\n",
            "when input is tensor([16, 24, 21,  1, 29, 17, 28, 21]) target is tensor(1)\n"
          ]
        }
      ]
    },
    {
      "cell_type": "markdown",
      "source": [
        "CPU와 다르게 GPU는 더 효율적으로 해당 작업을 수행할 수 있다. prvateLLM 프로젝트에서는 colab을 이용하므로 별도의 다운로드 없이 쉽게 변경이 가능하다."
      ],
      "metadata": {
        "id": "uOdxAQMO2hIP"
      }
    },
    {
      "cell_type": "code",
      "source": [
        "import torch\n",
        "device = 'cuda' if torch.cuda.is_available() else 'cpu'\n",
        "print(device)\n",
        "block_size = 8\n",
        "batch_size = 4"
      ],
      "metadata": {
        "colab": {
          "base_uri": "https://localhost:8080/"
        },
        "id": "MNhYmg-F0HA3",
        "outputId": "f4873317-fb92-4e7d-b77f-7d80d82a71f8"
      },
      "execution_count": 1,
      "outputs": [
        {
          "output_type": "stream",
          "name": "stdout",
          "text": [
            "cuda\n"
          ]
        }
      ]
    }
  ]
}